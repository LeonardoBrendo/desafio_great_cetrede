{
 "cells": [
  {
   "cell_type": "code",
   "execution_count": null,
   "id": "bb8e6308-501e-4f62-bbac-39b0594f3342",
   "metadata": {},
   "outputs": [],
   "source": [
    "import pandas as pd\n",
    "nome_arquivo_excel = #####caminho do arquivo excel#####\n",
    "dados_dataframe_excel = pd.read_excel(nome_arquivo_excel)\n",
    "dados_dataframe_excel"
   ]
  },
  {
   "cell_type": "code",
   "execution_count": null,
   "id": "036af59f-c21a-453a-ac0b-18df82f423f8",
   "metadata": {},
   "outputs": [],
   "source": [
    "valores_unicos = dados_dataframe_excel['INSE_CLASSIFICACAO'].unique()\n",
    "valores_unicos"
   ]
  },
  {
   "cell_type": "code",
   "execution_count": null,
   "id": "2cf24515-91e8-4569-9587-b085b3978e11",
   "metadata": {},
   "outputs": [],
   "source": [
    "from sqlalchemy import create_engine\n",
    "import pandas as pd\n",
    "\n",
    "usuario = 'postgres'\n",
    "senha = '#######'\n",
    "host = 'localhost'\n",
    "base_de_dados = 'postgres'\n",
    "porta = '5432'\n",
    "\n",
    "url_conexao = f'postgresql+psycopg2://{usuario}:{senha}@{host}:{porta}/{base_de_dados}'\n",
    "engine = create_engine(url_conexao)\n",
    "caminho_arquivo_excel = #####caminho do arquivo excel#####\n",
    "dados_excel = pd.read_excel(caminho_arquivo_excel)\n",
    "nome_da_tabela = 'escola'\n",
    "dados_excel.to_sql(nome_da_tabela, engine, if_exists='replace', index=False)\n",
    "print(\"Dados importados com sucesso para a tabela no PostgreSQL!\")"
   ]
  }
 ],
 "metadata": {
  "kernelspec": {
   "display_name": "Python 3 (ipykernel)",
   "language": "python",
   "name": "python3"
  },
  "language_info": {
   "codemirror_mode": {
    "name": "ipython",
    "version": 3
   },
   "file_extension": ".py",
   "mimetype": "text/x-python",
   "name": "python",
   "nbconvert_exporter": "python",
   "pygments_lexer": "ipython3",
   "version": "3.10.12"
  }
 },
 "nbformat": 4,
 "nbformat_minor": 5
}
